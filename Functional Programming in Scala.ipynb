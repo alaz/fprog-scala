{
 "cells": [
  {
   "cell_type": "markdown",
   "metadata": {},
   "source": [
    "# Chapter 2. Getting Started"
   ]
  },
  {
   "cell_type": "markdown",
   "metadata": {},
   "source": [
    "### Excercise 2.1"
   ]
  },
  {
   "cell_type": "code",
   "execution_count": 3,
   "metadata": {},
   "outputs": [
    {
     "data": {
      "text/plain": [
       "defined \u001b[32mfunction\u001b[39m \u001b[36mfib\u001b[39m"
      ]
     },
     "execution_count": 3,
     "metadata": {},
     "output_type": "execute_result"
    }
   ],
   "source": [
    "def fib(n: Int): Int = {\n",
    "  @annotation.tailrec\n",
    "  def f(a: Int, b: Int, n: Int): Int =\n",
    "    if (n > 1) f(b, a+b, n-1)\n",
    "    else a\n",
    "\n",
    "  f(0, 1, n)\n",
    "}"
   ]
  },
  {
   "cell_type": "code",
   "execution_count": 4,
   "metadata": {},
   "outputs": [
    {
     "data": {
      "text/plain": [
       "\u001b[36mres3\u001b[39m: \u001b[32mInt\u001b[39m = \u001b[32m34\u001b[39m"
      ]
     },
     "execution_count": 4,
     "metadata": {},
     "output_type": "execute_result"
    }
   ],
   "source": [
    "fib(10)"
   ]
  },
  {
   "cell_type": "markdown",
   "metadata": {},
   "source": [
    "### Exercise 2.2"
   ]
  },
  {
   "cell_type": "code",
   "execution_count": 5,
   "metadata": {},
   "outputs": [
    {
     "data": {
      "text/plain": [
       "defined \u001b[32mfunction\u001b[39m \u001b[36misSorted\u001b[39m"
      ]
     },
     "execution_count": 5,
     "metadata": {},
     "output_type": "execute_result"
    }
   ],
   "source": [
    "def isSorted[A](as: Array[A], ordered: (A,A) => Boolean): Boolean = {\n",
    "  @annotation.tailrec\n",
    "  def loop(n: Int): Boolean =\n",
    "    if (n == as.length-1) true\n",
    "    else if (ordered(as(n), as(n+1))) loop(n+1)\n",
    "    else false\n",
    "\n",
    "  loop(0)\n",
    "}"
   ]
  },
  {
   "cell_type": "markdown",
   "metadata": {},
   "source": [
    "### Exercise 2.3"
   ]
  },
  {
   "cell_type": "code",
   "execution_count": 6,
   "metadata": {},
   "outputs": [
    {
     "data": {
      "text/plain": [
       "defined \u001b[32mfunction\u001b[39m \u001b[36mcurry\u001b[39m"
      ]
     },
     "execution_count": 6,
     "metadata": {},
     "output_type": "execute_result"
    }
   ],
   "source": [
    "def curry[A,B,C](f: (A,B) => C): A => B => C =\n",
    "  a => b => f(a,b)"
   ]
  },
  {
   "cell_type": "markdown",
   "metadata": {},
   "source": [
    "### Exercise 2.4"
   ]
  },
  {
   "cell_type": "code",
   "execution_count": 7,
   "metadata": {},
   "outputs": [
    {
     "data": {
      "text/plain": [
       "defined \u001b[32mfunction\u001b[39m \u001b[36muncurry\u001b[39m"
      ]
     },
     "execution_count": 7,
     "metadata": {},
     "output_type": "execute_result"
    }
   ],
   "source": [
    "def uncurry[A,B,C](f: A => B => C): (A,B) => C =\n",
    "  (a,b) => f(a)(b)"
   ]
  },
  {
   "cell_type": "markdown",
   "metadata": {},
   "source": [
    "### Exercise 2.5"
   ]
  },
  {
   "cell_type": "code",
   "execution_count": 8,
   "metadata": {},
   "outputs": [
    {
     "data": {
      "text/plain": [
       "defined \u001b[32mfunction\u001b[39m \u001b[36mcompose\u001b[39m"
      ]
     },
     "execution_count": 8,
     "metadata": {},
     "output_type": "execute_result"
    }
   ],
   "source": [
    "def compose[A,B,C](f: B => C, g: A => B): A => C =\n",
    "  a => f(g(a))"
   ]
  },
  {
   "cell_type": "markdown",
   "metadata": {},
   "source": [
    "# Chapter 3. Data Structures"
   ]
  },
  {
   "cell_type": "markdown",
   "metadata": {},
   "source": [
    "## List"
   ]
  },
  {
   "cell_type": "code",
   "execution_count": 9,
   "metadata": {},
   "outputs": [
    {
     "data": {
      "text/plain": [
       "defined \u001b[32mtrait\u001b[39m \u001b[36mList\u001b[39m\n",
       "defined \u001b[32mobject\u001b[39m \u001b[36mNil\u001b[39m\n",
       "defined \u001b[32mclass\u001b[39m \u001b[36mCons\u001b[39m"
      ]
     },
     "execution_count": 9,
     "metadata": {},
     "output_type": "execute_result"
    }
   ],
   "source": [
    "sealed trait List[+A]\n",
    "case object Nil extends List[Nothing]\n",
    "case class Cons[+A](head: A, tail: List[A]) extends List[A]\n"
   ]
  },
  {
   "cell_type": "code",
   "execution_count": 16,
   "metadata": {},
   "outputs": [
    {
     "data": {
      "text/plain": [
       "defined \u001b[32mobject\u001b[39m \u001b[36mList\u001b[39m\n",
       "\u001b[36mres15_1\u001b[39m: \u001b[32mList\u001b[39m[\u001b[32mInt\u001b[39m] = \u001b[33mCons\u001b[39m(\u001b[32m1\u001b[39m, Nil)\n",
       "\u001b[36mres15_2\u001b[39m: \u001b[32mList\u001b[39m[\u001b[32mString\u001b[39m] = \u001b[33mCons\u001b[39m(\u001b[32m\"a\"\u001b[39m, Nil)\n",
       "\u001b[36mres15_3\u001b[39m: \u001b[32mList\u001b[39m[\u001b[32mInt\u001b[39m] = \u001b[33mCons\u001b[39m(\u001b[32m1\u001b[39m, \u001b[33mCons\u001b[39m(\u001b[32m2\u001b[39m, \u001b[33mCons\u001b[39m(\u001b[32m3\u001b[39m, \u001b[33mCons\u001b[39m(\u001b[32m4\u001b[39m, Nil))))"
      ]
     },
     "execution_count": 16,
     "metadata": {},
     "output_type": "execute_result"
    }
   ],
   "source": [
    "object List {\n",
    "  def apply[A](as: A*): List[A] =\n",
    "    if (as.isEmpty) Nil\n",
    "    else Cons(as.head, apply(as.tail:_*))\n",
    "}\n",
    "\n",
    "List(1)\n",
    "List(\"a\")\n",
    "List(1, 2, 3, 4)"
   ]
  },
  {
   "cell_type": "markdown",
   "metadata": {},
   "source": [
    "### Exercise 3.2"
   ]
  },
  {
   "cell_type": "code",
   "execution_count": 17,
   "metadata": {},
   "outputs": [
    {
     "data": {
      "text/plain": [
       "defined \u001b[32mfunction\u001b[39m \u001b[36mtail\u001b[39m\n",
       "\u001b[36mres16_1\u001b[39m: \u001b[32mList\u001b[39m[\u001b[32mInt\u001b[39m] = \u001b[33mCons\u001b[39m(\u001b[32m2\u001b[39m, \u001b[33mCons\u001b[39m(\u001b[32m3\u001b[39m, \u001b[33mCons\u001b[39m(\u001b[32m4\u001b[39m, Nil)))"
      ]
     },
     "execution_count": 17,
     "metadata": {},
     "output_type": "execute_result"
    }
   ],
   "source": [
    "def tail[A](list: List[A]): List[A] =\n",
    "  list match {\n",
    "    case Nil => sys.error(\"empty list\")\n",
    "    case Cons(_, t) => t\n",
    "  }\n",
    "\n",
    "tail(res15_3)"
   ]
  },
  {
   "cell_type": "markdown",
   "metadata": {},
   "source": [
    "### Exercise 3.3"
   ]
  },
  {
   "cell_type": "code",
   "execution_count": 22,
   "metadata": {},
   "outputs": [
    {
     "data": {
      "text/plain": [
       "defined \u001b[32mfunction\u001b[39m \u001b[36msetHead\u001b[39m\n",
       "\u001b[36mres21_1\u001b[39m: \u001b[32mList\u001b[39m[\u001b[32mInt\u001b[39m] = \u001b[33mCons\u001b[39m(\u001b[32m11\u001b[39m, \u001b[33mCons\u001b[39m(\u001b[32m3\u001b[39m, \u001b[33mCons\u001b[39m(\u001b[32m4\u001b[39m, Nil)))"
      ]
     },
     "execution_count": 22,
     "metadata": {},
     "output_type": "execute_result"
    }
   ],
   "source": [
    "def setHead[A](list: List[A], h: A): List[A] =\n",
    "  list match {\n",
    "    case Nil => sys.error(\"empty list\")\n",
    "    case Cons(_, t) => Cons(h, t)\n",
    "  }\n",
    "\n",
    "setHead(res16_1, 11)"
   ]
  },
  {
   "cell_type": "markdown",
   "metadata": {},
   "source": [
    "### Exercise 3.4"
   ]
  },
  {
   "cell_type": "code",
   "execution_count": 21,
   "metadata": {},
   "outputs": [
    {
     "data": {
      "text/plain": [
       "defined \u001b[32mfunction\u001b[39m \u001b[36mdrop\u001b[39m\n",
       "\u001b[36mres20_1\u001b[39m: \u001b[32mList\u001b[39m[\u001b[32mInt\u001b[39m] = \u001b[33mCons\u001b[39m(\u001b[32m3\u001b[39m, \u001b[33mCons\u001b[39m(\u001b[32m4\u001b[39m, Nil))"
      ]
     },
     "execution_count": 21,
     "metadata": {},
     "output_type": "execute_result"
    }
   ],
   "source": [
    "def drop[A](l: List[A], n: Int): List[A] =\n",
    "  l match {\n",
    "    case _ if n <= 0 => l\n",
    "    case Nil => sys.error(\"empty list\")\n",
    "    case Cons(h, t) => drop(t, n-1)\n",
    "  }\n",
    "\n",
    "drop(res15_3, 2)"
   ]
  },
  {
   "cell_type": "markdown",
   "metadata": {},
   "source": [
    "### Exercise 3.5"
   ]
  },
  {
   "cell_type": "code",
   "execution_count": 20,
   "metadata": {},
   "outputs": [
    {
     "data": {
      "text/plain": [
       "defined \u001b[32mfunction\u001b[39m \u001b[36mdropWhile\u001b[39m\n",
       "\u001b[36mres19_1\u001b[39m: \u001b[32mList\u001b[39m[\u001b[32mInt\u001b[39m] = \u001b[33mCons\u001b[39m(\u001b[32m3\u001b[39m, \u001b[33mCons\u001b[39m(\u001b[32m4\u001b[39m, Nil))"
      ]
     },
     "execution_count": 20,
     "metadata": {},
     "output_type": "execute_result"
    }
   ],
   "source": [
    "def dropWhile[A](l: List[A], f: A => Boolean): List[A] =\n",
    "  l match {\n",
    "    case Nil => Nil\n",
    "    case Cons(h, t) =>\n",
    "      if (f(h)) dropWhile(t, f)\n",
    "      else l\n",
    "  }\n",
    "\n",
    "dropWhile(res15_3, (x: Int) => x < 3)"
   ]
  },
  {
   "cell_type": "markdown",
   "metadata": {},
   "source": [
    "### Exercise 3.6"
   ]
  },
  {
   "cell_type": "code",
   "execution_count": 23,
   "metadata": {},
   "outputs": [
    {
     "data": {
      "text/plain": [
       "defined \u001b[32mfunction\u001b[39m \u001b[36minit\u001b[39m\n",
       "\u001b[36mres22_1\u001b[39m: \u001b[32mList\u001b[39m[\u001b[32mInt\u001b[39m] = Nil\n",
       "\u001b[36mres22_2\u001b[39m: \u001b[32mList\u001b[39m[\u001b[32mString\u001b[39m] = Nil\n",
       "\u001b[36mres22_3\u001b[39m: \u001b[32mList\u001b[39m[\u001b[32mInt\u001b[39m] = \u001b[33mCons\u001b[39m(\u001b[32m1\u001b[39m, \u001b[33mCons\u001b[39m(\u001b[32m2\u001b[39m, \u001b[33mCons\u001b[39m(\u001b[32m3\u001b[39m, Nil)))"
      ]
     },
     "execution_count": 23,
     "metadata": {},
     "output_type": "execute_result"
    }
   ],
   "source": [
    "def init[A](l: List[A]): List[A] =\n",
    "  l match {\n",
    "    case Nil => sys.error(\"empty list\")\n",
    "    case Cons(h, Nil) => Nil\n",
    "    case Cons(h, t) => Cons(h, init(t))\n",
    "  }\n",
    "\n",
    "init(res15_1)\n",
    "init(res15_2)\n",
    "init(res15_3)"
   ]
  },
  {
   "cell_type": "markdown",
   "metadata": {},
   "source": [
    "### foldRight"
   ]
  },
  {
   "cell_type": "code",
   "execution_count": 24,
   "metadata": {},
   "outputs": [
    {
     "data": {
      "text/plain": [
       "defined \u001b[32mfunction\u001b[39m \u001b[36mfoldRight\u001b[39m"
      ]
     },
     "execution_count": 24,
     "metadata": {},
     "output_type": "execute_result"
    }
   ],
   "source": [
    "def foldRight[A,B](as: List[A], z: B)(f: (A,B) => B): B =\n",
    "  as match {\n",
    "    case Nil => z\n",
    "    case Cons(x, xs) => f(x, foldRight(xs, z)(f))\n",
    "  }"
   ]
  },
  {
   "cell_type": "markdown",
   "metadata": {},
   "source": [
    "Experiment to implement tail recursive `foldRight` (not an exercise)"
   ]
  },
  {
   "cell_type": "code",
   "execution_count": 26,
   "metadata": {},
   "outputs": [
    {
     "data": {
      "text/plain": [
       "defined \u001b[32mfunction\u001b[39m \u001b[36mfoldRight1\u001b[39m"
      ]
     },
     "execution_count": 26,
     "metadata": {},
     "output_type": "execute_result"
    }
   ],
   "source": [
    "def foldRight1[A,B](as: List[A], z: B)(f: (A,B) => B): B = {\n",
    "  @annotation.tailrec\n",
    "  def fn(acc: B => B, l: List[A]): B => B =\n",
    "    l match {\n",
    "      case Nil => acc\n",
    "      case Cons(x, xs) => fn(f.curried(x) andThen acc, xs)\n",
    "    }\n",
    "  fn(x => x, as)(z)\n",
    "}"
   ]
  },
  {
   "cell_type": "markdown",
   "metadata": {},
   "source": [
    "### Exercise 3.9"
   ]
  },
  {
   "cell_type": "code",
   "execution_count": 28,
   "metadata": {},
   "outputs": [
    {
     "data": {
      "text/plain": [
       "defined \u001b[32mfunction\u001b[39m \u001b[36mlength\u001b[39m\n",
       "\u001b[36mres27_1\u001b[39m: \u001b[32mInt\u001b[39m = \u001b[32m0\u001b[39m\n",
       "\u001b[36mres27_2\u001b[39m: \u001b[32mInt\u001b[39m = \u001b[32m1\u001b[39m\n",
       "\u001b[36mres27_3\u001b[39m: \u001b[32mInt\u001b[39m = \u001b[32m4\u001b[39m"
      ]
     },
     "execution_count": 28,
     "metadata": {},
     "output_type": "execute_result"
    }
   ],
   "source": [
    "def length[A](as: List[A]): Int =\n",
    "  foldRight(as, 0) { (_, n) => n+1 }\n",
    "\n",
    "length(Nil)\n",
    "length(res15_1)\n",
    "length(res15_3)"
   ]
  },
  {
   "cell_type": "markdown",
   "metadata": {},
   "source": [
    "implementation with `foldRight1`:"
   ]
  },
  {
   "cell_type": "code",
   "execution_count": 27,
   "metadata": {},
   "outputs": [
    {
     "data": {
      "text/plain": [
       "defined \u001b[32mfunction\u001b[39m \u001b[36mlength\u001b[39m\n",
       "\u001b[36mres26_1\u001b[39m: \u001b[32mInt\u001b[39m = \u001b[32m0\u001b[39m\n",
       "\u001b[36mres26_2\u001b[39m: \u001b[32mInt\u001b[39m = \u001b[32m1\u001b[39m\n",
       "\u001b[36mres26_3\u001b[39m: \u001b[32mInt\u001b[39m = \u001b[32m4\u001b[39m"
      ]
     },
     "execution_count": 27,
     "metadata": {},
     "output_type": "execute_result"
    }
   ],
   "source": [
    "def length[A](as: List[A]): Int =\n",
    "  foldRight1(as, 0) { (_, n) => n+1 }\n",
    "\n",
    "length(Nil)\n",
    "length(res15_1)\n",
    "length(res15_3)"
   ]
  },
  {
   "cell_type": "markdown",
   "metadata": {},
   "source": [
    "### Exercise 3.10: tail recursive `foldLeft`"
   ]
  },
  {
   "cell_type": "code",
   "execution_count": 29,
   "metadata": {},
   "outputs": [
    {
     "data": {
      "text/plain": [
       "defined \u001b[32mfunction\u001b[39m \u001b[36mfoldLeft\u001b[39m"
      ]
     },
     "execution_count": 29,
     "metadata": {},
     "output_type": "execute_result"
    }
   ],
   "source": [
    "@annotation.tailrec\n",
    "def foldLeft[A,B](as: List[A], z: B)(f: (B,A) => B): B =\n",
    "  as match {\n",
    "    case Nil => z\n",
    "    case Cons(x, xs) => foldLeft(xs,f(z,x))(f)\n",
    "  }"
   ]
  },
  {
   "cell_type": "markdown",
   "metadata": {},
   "source": [
    "### Exercise 3.11: sum, product, length via foldLeft"
   ]
  },
  {
   "cell_type": "code",
   "execution_count": 30,
   "metadata": {},
   "outputs": [
    {
     "data": {
      "text/plain": [
       "defined \u001b[32mfunction\u001b[39m \u001b[36msum\u001b[39m\n",
       "defined \u001b[32mfunction\u001b[39m \u001b[36mproduct\u001b[39m\n",
       "defined \u001b[32mfunction\u001b[39m \u001b[36mlength\u001b[39m"
      ]
     },
     "execution_count": 30,
     "metadata": {},
     "output_type": "execute_result"
    }
   ],
   "source": [
    "def sum(as: List[Int]): Int = foldLeft[Int, Int](as, 0) { _ + _ }\n",
    "def product(as: List[Double]): Double = foldLeft[Double, Double](as, 1.0) { _ * _ }\n",
    "def length[A](as: List[A]): Int = foldLeft[A, Int](as, 0) { case (n,_) => n + 1 }\n"
   ]
  },
  {
   "cell_type": "markdown",
   "metadata": {},
   "source": [
    "### Exercise 3.12: reverse"
   ]
  },
  {
   "cell_type": "code",
   "execution_count": 31,
   "metadata": {},
   "outputs": [
    {
     "data": {
      "text/plain": [
       "defined \u001b[32mfunction\u001b[39m \u001b[36mreverse\u001b[39m"
      ]
     },
     "execution_count": 31,
     "metadata": {},
     "output_type": "execute_result"
    }
   ],
   "source": [
    "def reverse[A](as: List[A]): List[A] = {\n",
    "  @annotation.tailrec\n",
    "  def f(l: List[A], acc: List[A]): List[A] =\n",
    "    l match {\n",
    "      case Nil => acc\n",
    "      case Cons(x, xs) => f(xs, Cons(x, acc))\n",
    "    }\n",
    "  f(as, Nil)\n",
    "}"
   ]
  },
  {
   "cell_type": "markdown",
   "metadata": {},
   "source": [
    "via `fold`:"
   ]
  },
  {
   "cell_type": "code",
   "execution_count": 32,
   "metadata": {},
   "outputs": [
    {
     "data": {
      "text/plain": [
       "defined \u001b[32mfunction\u001b[39m \u001b[36mreverse\u001b[39m"
      ]
     },
     "execution_count": 32,
     "metadata": {},
     "output_type": "execute_result"
    }
   ],
   "source": [
    "def reverse[A](as: List[A]): List[A] =\n",
    "  foldLeft(as, Nil:List[A]) { (z,a) => Cons(a,z) }"
   ]
  },
  {
   "cell_type": "markdown",
   "metadata": {},
   "source": [
    "### Exercise 3.13: `foldLeft` via `foldRight`"
   ]
  },
  {
   "cell_type": "code",
   "execution_count": 33,
   "metadata": {},
   "outputs": [
    {
     "data": {
      "text/plain": [
       "defined \u001b[32mfunction\u001b[39m \u001b[36mfoldLeft\u001b[39m"
      ]
     },
     "execution_count": 33,
     "metadata": {},
     "output_type": "execute_result"
    }
   ],
   "source": [
    "def foldLeft[A,B](as: List[A], z: B)(f: (B,A) => B): B =\n",
    "  foldRight(as, (b: B) => b)( (a,g) => b => g(f(b,a)) ) (z)"
   ]
  },
  {
   "cell_type": "markdown",
   "metadata": {},
   "source": [
    "other way around:"
   ]
  },
  {
   "cell_type": "code",
   "execution_count": 34,
   "metadata": {},
   "outputs": [
    {
     "data": {
      "text/plain": [
       "defined \u001b[32mfunction\u001b[39m \u001b[36mfoldRight\u001b[39m"
      ]
     },
     "execution_count": 34,
     "metadata": {},
     "output_type": "execute_result"
    }
   ],
   "source": [
    "def foldRight[A,B](as: List[A], z: B)(f: (A,B) => B): B =\n",
    "  foldLeft(as, (b: B) => b)( (g,a) => b => g(f(a,b)) ) (z)"
   ]
  },
  {
   "cell_type": "markdown",
   "metadata": {},
   "source": [
    "### Exercise 3.14: append in terms of either `foldLeft` or `foldRight`"
   ]
  },
  {
   "cell_type": "code",
   "execution_count": 35,
   "metadata": {},
   "outputs": [
    {
     "data": {
      "text/plain": [
       "defined \u001b[32mfunction\u001b[39m \u001b[36mappend\u001b[39m\n",
       "defined \u001b[32mfunction\u001b[39m \u001b[36mappend1\u001b[39m"
      ]
     },
     "execution_count": 35,
     "metadata": {},
     "output_type": "execute_result"
    }
   ],
   "source": [
    "def append[A](xs: List[A], x: A): List[A] =\n",
    "  foldRight(xs, Cons(x, Nil)) { Cons(_, _) }\n",
    "\n",
    "def append1[A](xs1: List[A], xs2: List[A]): List[A] =\n",
    "  foldRight(xs1, xs2) { Cons(_,_) }"
   ]
  },
  {
   "cell_type": "markdown",
   "metadata": {},
   "source": [
    "### Exercise 3.15: concatenate list of lists into single list"
   ]
  },
  {
   "cell_type": "code",
   "execution_count": 36,
   "metadata": {},
   "outputs": [
    {
     "data": {
      "text/plain": [
       "defined \u001b[32mfunction\u001b[39m \u001b[36mconcat\u001b[39m"
      ]
     },
     "execution_count": 36,
     "metadata": {},
     "output_type": "execute_result"
    }
   ],
   "source": [
    "def concat[A](xs: List[List[A]]): List[A] =\n",
    "  foldLeft(xs, Nil:List[A]) { foldRight(_, _) { Cons(_, _) } }"
   ]
  },
  {
   "cell_type": "markdown",
   "metadata": {},
   "source": [
    "### Exercise 3.16 : transform a list of integers +1"
   ]
  },
  {
   "cell_type": "code",
   "execution_count": 37,
   "metadata": {},
   "outputs": [
    {
     "data": {
      "text/plain": [
       "defined \u001b[32mfunction\u001b[39m \u001b[36mlistP1\u001b[39m"
      ]
     },
     "execution_count": 37,
     "metadata": {},
     "output_type": "execute_result"
    }
   ],
   "source": [
    "def listP1(l: List[Int]): List[Int] =\n",
    "  l match {\n",
    "    case Nil => Nil\n",
    "    case Cons(x, xs) => Cons(x+1, listP1(xs))\n",
    "  }"
   ]
  },
  {
   "cell_type": "markdown",
   "metadata": {},
   "source": [
    "### Exercise 3.17 : transform a list of `Double`, turn every into string"
   ]
  },
  {
   "cell_type": "code",
   "execution_count": 38,
   "metadata": {},
   "outputs": [
    {
     "data": {
      "text/plain": [
       "defined \u001b[32mfunction\u001b[39m \u001b[36mlistDtoS\u001b[39m"
      ]
     },
     "execution_count": 38,
     "metadata": {},
     "output_type": "execute_result"
    }
   ],
   "source": [
    "def listDtoS(l: List[Double]): List[String] =\n",
    "  l match {\n",
    "    case Nil => Nil\n",
    "    case Cons(x, xs) => Cons(x.toString, listDtoS(xs))\n",
    "  }"
   ]
  },
  {
   "cell_type": "markdown",
   "metadata": {},
   "source": [
    "### Exercise 3.18 : `map`"
   ]
  },
  {
   "cell_type": "code",
   "execution_count": 39,
   "metadata": {},
   "outputs": [
    {
     "data": {
      "text/plain": [
       "defined \u001b[32mfunction\u001b[39m \u001b[36mmap\u001b[39m"
      ]
     },
     "execution_count": 39,
     "metadata": {},
     "output_type": "execute_result"
    }
   ],
   "source": [
    "def map[A,B](l: List[A])(f: A => B): List[B] =\n",
    "  foldRight(l, Nil: List[B]) { (a,b) => Cons(f(a), b) }"
   ]
  },
  {
   "cell_type": "code",
   "execution_count": 40,
   "metadata": {},
   "outputs": [
    {
     "data": {
      "text/plain": [
       "defined \u001b[32mfunction\u001b[39m \u001b[36mmap1\u001b[39m"
      ]
     },
     "execution_count": 40,
     "metadata": {},
     "output_type": "execute_result"
    }
   ],
   "source": [
    "def map1[A,B](l: List[A])(f: A => B): List[B] =\n",
    "  l match {\n",
    "    case Nil => Nil\n",
    "    case Cons(x, xs) => Cons(f(x), map(xs)(f))\n",
    "  }"
   ]
  },
  {
   "cell_type": "markdown",
   "metadata": {},
   "source": [
    "### Exercise 3.19 : `filter`"
   ]
  },
  {
   "cell_type": "code",
   "execution_count": 41,
   "metadata": {},
   "outputs": [
    {
     "data": {
      "text/plain": [
       "defined \u001b[32mfunction\u001b[39m \u001b[36mfilter\u001b[39m"
      ]
     },
     "execution_count": 41,
     "metadata": {},
     "output_type": "execute_result"
    }
   ],
   "source": [
    "def filter[A](l: List[A])(f: A => Boolean): List[A] =\n",
    "  l match {\n",
    "    case Nil => Nil\n",
    "    case Cons(x, xs) if f(x) => Cons(x, filter(xs)(f))\n",
    "    case Cons(x, xs) => filter(xs)(f)\n",
    "  }"
   ]
  },
  {
   "cell_type": "markdown",
   "metadata": {},
   "source": [
    "### Exercise 3.20 : `flatMap`"
   ]
  },
  {
   "cell_type": "code",
   "execution_count": 42,
   "metadata": {},
   "outputs": [
    {
     "data": {
      "text/plain": [
       "defined \u001b[32mfunction\u001b[39m \u001b[36mflatMap\u001b[39m"
      ]
     },
     "execution_count": 42,
     "metadata": {},
     "output_type": "execute_result"
    }
   ],
   "source": [
    "def flatMap[A,B](l: List[A])(f: A => List[B]): List[B] =\n",
    "  l match {\n",
    "    case Nil => Nil\n",
    "    case Cons(x, xs) => append1(f(x), flatMap(xs)(f))\n",
    "  }"
   ]
  },
  {
   "cell_type": "markdown",
   "metadata": {},
   "source": [
    "### Exercise 3.21 : `filter` via `flatMap`"
   ]
  },
  {
   "cell_type": "code",
   "execution_count": 43,
   "metadata": {},
   "outputs": [
    {
     "data": {
      "text/plain": [
       "defined \u001b[32mfunction\u001b[39m \u001b[36mfilter1\u001b[39m"
      ]
     },
     "execution_count": 43,
     "metadata": {},
     "output_type": "execute_result"
    }
   ],
   "source": [
    "def filter1[A](l: List[A])(f: A => Boolean): List[A] =\n",
    "  flatMap(l) { x => if (f(x)) Cons(x, Nil) else Nil }"
   ]
  },
  {
   "cell_type": "markdown",
   "metadata": {},
   "source": [
    "### Exercise 3.23 : `zipWith`"
   ]
  },
  {
   "cell_type": "code",
   "execution_count": 44,
   "metadata": {},
   "outputs": [
    {
     "data": {
      "text/plain": [
       "defined \u001b[32mfunction\u001b[39m \u001b[36mzipWith\u001b[39m"
      ]
     },
     "execution_count": 44,
     "metadata": {},
     "output_type": "execute_result"
    }
   ],
   "source": [
    "def zipWith[A,B](l1: List[A], l2: List[A])(f: (A,A) => B): List[B] =\n",
    "  (l1, l2) match {\n",
    "    case (Cons(x1, xs1), Cons(x2, xs2)) => Cons(f(x1,x2), zipWith(xs1,xs2)(f))\n",
    "    case (Nil, Nil) => Nil\n",
    "    case _ => sys.error(\"different list sizes\")\n",
    "  }"
   ]
  },
  {
   "cell_type": "markdown",
   "metadata": {},
   "source": [
    "### Exercise 3.24 : `hasSubsequence`"
   ]
  },
  {
   "cell_type": "code",
   "execution_count": 45,
   "metadata": {},
   "outputs": [
    {
     "data": {
      "text/plain": [
       "defined \u001b[32mfunction\u001b[39m \u001b[36mhasSubsequence\u001b[39m"
      ]
     },
     "execution_count": 45,
     "metadata": {},
     "output_type": "execute_result"
    }
   ],
   "source": [
    "def hasSubsequence[A](full: List[A], sub: List[A]): Boolean =\n",
    "  (full, sub) match {\n",
    "    case (_, Nil) => true\n",
    "    case (Nil, _) => false\n",
    "    case (Cons(x1, f1), Cons(x2, f2)) =>\n",
    "      if (x1 == x2) hasSubsequence(f1, f2)\n",
    "      else hasSubsequence(f1, sub)\n",
    "  }"
   ]
  },
  {
   "cell_type": "markdown",
   "metadata": {},
   "source": [
    "## Tree"
   ]
  },
  {
   "cell_type": "code",
   "execution_count": 46,
   "metadata": {},
   "outputs": [
    {
     "data": {
      "text/plain": [
       "defined \u001b[32mtrait\u001b[39m \u001b[36mTree\u001b[39m\n",
       "defined \u001b[32mclass\u001b[39m \u001b[36mLeaf\u001b[39m\n",
       "defined \u001b[32mclass\u001b[39m \u001b[36mBranch\u001b[39m"
      ]
     },
     "execution_count": 46,
     "metadata": {},
     "output_type": "execute_result"
    }
   ],
   "source": [
    "sealed trait Tree[+A]\n",
    "case class Leaf[A](value: A) extends Tree[A]\n",
    "case class Branch[A](left: Tree[A], right: Tree[A]) extends Tree[A]"
   ]
  },
  {
   "cell_type": "markdown",
   "metadata": {},
   "source": [
    "### Exercise 3.25: `size` = the total number of leaves + branches"
   ]
  },
  {
   "cell_type": "code",
   "execution_count": 47,
   "metadata": {},
   "outputs": [
    {
     "data": {
      "text/plain": [
       "defined \u001b[32mfunction\u001b[39m \u001b[36msize\u001b[39m"
      ]
     },
     "execution_count": 47,
     "metadata": {},
     "output_type": "execute_result"
    }
   ],
   "source": [
    "def size[A](tree: Tree[A]): Int =\n",
    "  tree match {\n",
    "    case Leaf(_) => 1\n",
    "    case Branch(l, r) => 1 + size(l) + size(r)\n",
    "  }"
   ]
  },
  {
   "cell_type": "markdown",
   "metadata": {},
   "source": [
    "### Exercise 3.26: `maximum` = the maximum element"
   ]
  },
  {
   "cell_type": "code",
   "execution_count": 48,
   "metadata": {},
   "outputs": [
    {
     "data": {
      "text/plain": [
       "defined \u001b[32mfunction\u001b[39m \u001b[36mmaximum\u001b[39m"
      ]
     },
     "execution_count": 48,
     "metadata": {},
     "output_type": "execute_result"
    }
   ],
   "source": [
    "def maximum(tree: Tree[Int]): Int =\n",
    "  tree match {\n",
    "    case Leaf(x) => x\n",
    "    case Branch(l, r) => maximum(l) max maximum(r)\n",
    "  }"
   ]
  },
  {
   "cell_type": "markdown",
   "metadata": {},
   "source": [
    "### Exercise 3.27: `depth`"
   ]
  },
  {
   "cell_type": "code",
   "execution_count": 49,
   "metadata": {},
   "outputs": [
    {
     "data": {
      "text/plain": [
       "defined \u001b[32mfunction\u001b[39m \u001b[36mdepth\u001b[39m"
      ]
     },
     "execution_count": 49,
     "metadata": {},
     "output_type": "execute_result"
    }
   ],
   "source": [
    "def depth[A](tree: Tree[A]): Int =\n",
    "  tree match {\n",
    "    case Leaf(_) => 0\n",
    "    case Branch(l,r) => 1 + (depth(l) max depth(r))\n",
    "  }"
   ]
  },
  {
   "cell_type": "markdown",
   "metadata": {},
   "source": [
    "### Exercise 3.28: `map`"
   ]
  },
  {
   "cell_type": "code",
   "execution_count": 50,
   "metadata": {},
   "outputs": [
    {
     "data": {
      "text/plain": [
       "defined \u001b[32mfunction\u001b[39m \u001b[36mmap\u001b[39m"
      ]
     },
     "execution_count": 50,
     "metadata": {},
     "output_type": "execute_result"
    }
   ],
   "source": [
    "def map[A,B](tree: Tree[A])(f: A => B): Tree[B] =\n",
    "  tree match {\n",
    "    case Leaf(x) => Leaf(f(x))\n",
    "    case Branch(l,r) => Branch(map(l)(f), map(r)(f))\n",
    "  }"
   ]
  },
  {
   "cell_type": "markdown",
   "metadata": {},
   "source": [
    "### Exercise 3.29: `fold`\n",
    "reimplement `size`, `maximum`, `depth`, `map`"
   ]
  },
  {
   "cell_type": "code",
   "execution_count": 51,
   "metadata": {},
   "outputs": [
    {
     "data": {
      "text/plain": [
       "defined \u001b[32mfunction\u001b[39m \u001b[36mfold\u001b[39m"
      ]
     },
     "execution_count": 51,
     "metadata": {},
     "output_type": "execute_result"
    }
   ],
   "source": [
    "def fold[A,B](tree: Tree[A])(leaf: A => B)(branch: (B,B) => B): B =\n",
    "  tree match {\n",
    "    case Leaf(x) => leaf(x)\n",
    "    case Branch(l,r) => branch(fold(l)(leaf)(branch), fold(r)(leaf)(branch))\n",
    "  }"
   ]
  },
  {
   "cell_type": "code",
   "execution_count": 52,
   "metadata": {},
   "outputs": [
    {
     "data": {
      "text/plain": [
       "defined \u001b[32mfunction\u001b[39m \u001b[36msize_1\u001b[39m\n",
       "defined \u001b[32mfunction\u001b[39m \u001b[36mmaximum_1\u001b[39m\n",
       "defined \u001b[32mfunction\u001b[39m \u001b[36mdepth_1\u001b[39m\n",
       "defined \u001b[32mfunction\u001b[39m \u001b[36mmap_1\u001b[39m"
      ]
     },
     "execution_count": 52,
     "metadata": {},
     "output_type": "execute_result"
    }
   ],
   "source": [
    "def size_1[A](tree: Tree[A]): Int =\n",
    "  fold(tree) {_ => 1 } { (l,r) => 1+l+r }\n",
    "def maximum_1(tree: Tree[Int]) =\n",
    "  fold(tree) { x => x } { (l,r) => l max r }\n",
    "def depth_1[A](tree: Tree[A]): Int =\n",
    "  fold(tree) { _ => 1 } { (l,r) => 1 + (l max r) }\n",
    "def map_1[A,B](tree: Tree[A])(f: A => B): Tree[B] =\n",
    "  fold[A,Tree[B]](tree) { x => Leaf(f(x)) } { (l,r) => Branch(l,r) }"
   ]
  },
  {
   "cell_type": "markdown",
   "metadata": {},
   "source": [
    "# Chapter 6. State"
   ]
  },
  {
   "cell_type": "markdown",
   "metadata": {},
   "source": [
    "## RNG"
   ]
  },
  {
   "cell_type": "code",
   "execution_count": 58,
   "metadata": {},
   "outputs": [
    {
     "data": {
      "text/plain": [
       "defined \u001b[32mtrait\u001b[39m \u001b[36mRNG\u001b[39m"
      ]
     },
     "execution_count": 58,
     "metadata": {},
     "output_type": "execute_result"
    }
   ],
   "source": [
    "trait RNG {\n",
    "  def nextInt: (Int, RNG) // Should generate a random `Int`. We'll later define other functions in terms of `nextInt`.\n",
    "}"
   ]
  },
  {
   "cell_type": "code",
   "execution_count": 59,
   "metadata": {},
   "outputs": [
    {
     "data": {
      "text/plain": [
       "defined \u001b[32mclass\u001b[39m \u001b[36mSimpleRNG\u001b[39m"
      ]
     },
     "execution_count": 59,
     "metadata": {},
     "output_type": "execute_result"
    }
   ],
   "source": [
    "case class SimpleRNG(seed: Long) extends RNG {\n",
    "  def nextInt: (Int, RNG) = {\n",
    "    val newSeed = (seed * 0x5DEECE66DL + 0xBL) & 0xFFFFFFFFFFFFL // `&` is bitwise AND. We use the current seed to generate a new seed.\n",
    "    val nextRNG = SimpleRNG(newSeed) // The next state, which is an `RNG` instance created from the new seed.\n",
    "    val n = (newSeed >>> 16).toInt // `>>>` is right binary shift with zero fill. The value `n` is our new pseudo-random integer.\n",
    "    (n, nextRNG) // The return value is a tuple containing both a pseudo-random integer and the next `RNG` state.\n",
    "  }\n",
    "}"
   ]
  },
  {
   "cell_type": "markdown",
   "metadata": {},
   "source": [
    "helper for testing:"
   ]
  },
  {
   "cell_type": "code",
   "execution_count": 62,
   "metadata": {},
   "outputs": [
    {
     "data": {
      "text/plain": [
       "defined \u001b[32mclass\u001b[39m \u001b[36mConstRNG\u001b[39m"
      ]
     },
     "execution_count": 62,
     "metadata": {},
     "output_type": "execute_result"
    }
   ],
   "source": [
    "case class ConstRNG(i: Int) extends RNG {\n",
    "  def nextInt: (Int, RNG) = (i, this)\n",
    "}"
   ]
  },
  {
   "cell_type": "markdown",
   "metadata": {},
   "source": [
    "### Exercise 6.1"
   ]
  },
  {
   "cell_type": "code",
   "execution_count": 60,
   "metadata": {},
   "outputs": [
    {
     "data": {
      "text/plain": [
       "defined \u001b[32mfunction\u001b[39m \u001b[36mnonNegativeInt\u001b[39m"
      ]
     },
     "execution_count": 60,
     "metadata": {},
     "output_type": "execute_result"
    }
   ],
   "source": [
    "def nonNegativeInt(rng: RNG): (Int, RNG) = {\n",
    "  val (i, rng1) = rng.nextInt\n",
    "  val i1 =\n",
    "    if (i < 0) -(i+1)\n",
    "    else i\n",
    "  (i1, rng1)\n",
    "}"
   ]
  },
  {
   "cell_type": "code",
   "execution_count": 65,
   "metadata": {},
   "outputs": [
    {
     "data": {
      "text/plain": [
       "\u001b[36mres64_0\u001b[39m: (\u001b[32mInt\u001b[39m, \u001b[32mRNG\u001b[39m) = (\u001b[32m2\u001b[39m, \u001b[33mConstRNG\u001b[39m(\u001b[32m2\u001b[39m))\n",
       "\u001b[36mres64_1\u001b[39m: (\u001b[32mInt\u001b[39m, \u001b[32mRNG\u001b[39m) = (\u001b[32m1\u001b[39m, \u001b[33mConstRNG\u001b[39m(\u001b[32m-2\u001b[39m))\n",
       "\u001b[36mres64_2\u001b[39m: (\u001b[32mInt\u001b[39m, \u001b[32mRNG\u001b[39m) = (\u001b[32m384748\u001b[39m, \u001b[33mSimpleRNG\u001b[39m(\u001b[32m25214903928L\u001b[39m))"
      ]
     },
     "execution_count": 65,
     "metadata": {},
     "output_type": "execute_result"
    }
   ],
   "source": [
    "nonNegativeInt(ConstRNG(+2))\n",
    "nonNegativeInt(ConstRNG(-2))\n",
    "nonNegativeInt(SimpleRNG(1L))"
   ]
  },
  {
   "cell_type": "markdown",
   "metadata": {},
   "source": [
    "### Exercise 6.2"
   ]
  },
  {
   "cell_type": "code",
   "execution_count": 66,
   "metadata": {},
   "outputs": [
    {
     "data": {
      "text/plain": [
       "defined \u001b[32mfunction\u001b[39m \u001b[36mdouble\u001b[39m"
      ]
     },
     "execution_count": 66,
     "metadata": {},
     "output_type": "execute_result"
    }
   ],
   "source": [
    "def double(rng: RNG): (Double, RNG) = {\n",
    "  val (i, rng1) = nonNegativeInt(rng)\n",
    "  (i.toDouble / Int.MaxValue, rng1)\n",
    "}"
   ]
  },
  {
   "cell_type": "markdown",
   "metadata": {},
   "source": [
    "### Exercise 6.3"
   ]
  },
  {
   "cell_type": "code",
   "execution_count": 71,
   "metadata": {},
   "outputs": [
    {
     "data": {
      "text/plain": [
       "defined \u001b[32mfunction\u001b[39m \u001b[36mintDouble\u001b[39m\n",
       "defined \u001b[32mfunction\u001b[39m \u001b[36mdoubleInt\u001b[39m\n",
       "defined \u001b[32mfunction\u001b[39m \u001b[36mdouble3\u001b[39m"
      ]
     },
     "execution_count": 71,
     "metadata": {},
     "output_type": "execute_result"
    }
   ],
   "source": [
    "def intDouble(rng: RNG): ((Int, Double), RNG) = {\n",
    "  val (i, rng1) = rng.nextInt\n",
    "  val (d, rng2) = double(rng1)\n",
    "  ((i,d), rng2)\n",
    "}\n",
    "\n",
    "def doubleInt(rng: RNG): ((Double, Int), RNG) = {\n",
    "  val (d, rng1) = double(rng)\n",
    "  val (i, rng2) = rng1.nextInt\n",
    "  ((d,i), rng2)\n",
    "}\n",
    "\n",
    "def double3(rng: RNG): ((Double, Double, Double), RNG) = {\n",
    "  val (d1, rng1) = double(rng)\n",
    "  val (d2, rng2) = double(rng1)\n",
    "  val (d3, rng3) = double(rng2)\n",
    "  ((d1,d2,d3), rng3)\n",
    "}"
   ]
  },
  {
   "cell_type": "markdown",
   "metadata": {},
   "source": [
    "### Exercise 6.4"
   ]
  },
  {
   "cell_type": "code",
   "execution_count": 73,
   "metadata": {},
   "outputs": [
    {
     "data": {
      "text/plain": [
       "defined \u001b[32mfunction\u001b[39m \u001b[36mints\u001b[39m"
      ]
     },
     "execution_count": 73,
     "metadata": {},
     "output_type": "execute_result"
    }
   ],
   "source": [
    "def ints(count: Int)(rng: RNG): (List[Int], RNG) = {\n",
    "  @annotation.tailrec\n",
    "  def fn(acc: List[Int], r: RNG, n: Int): (List[Int], RNG) =\n",
    "    if (n == 0) (reverse(acc), r)\n",
    "    else {\n",
    "      val (x,r1) = r.nextInt\n",
    "      fn(Cons(x, acc), r1, n-1)\n",
    "    }\n",
    "\n",
    "  fn(Nil, rng, count)\n",
    "}"
   ]
  },
  {
   "cell_type": "code",
   "execution_count": 74,
   "metadata": {},
   "outputs": [
    {
     "data": {
      "text/plain": [
       "defined \u001b[32mtype\u001b[39m \u001b[36mRand\u001b[39m"
      ]
     },
     "execution_count": 74,
     "metadata": {},
     "output_type": "execute_result"
    }
   ],
   "source": [
    "type Rand[+A] = RNG => (A, RNG)"
   ]
  },
  {
   "cell_type": "code",
   "execution_count": 75,
   "metadata": {},
   "outputs": [
    {
     "data": {
      "text/plain": [
       "\u001b[36mint\u001b[39m: \u001b[32mRNG\u001b[39m => (\u001b[32mInt\u001b[39m, \u001b[32mRNG\u001b[39m) = ammonite.$sess.cmd74$Helper$$Lambda$2621/987597697@1baba0cb"
      ]
     },
     "execution_count": 75,
     "metadata": {},
     "output_type": "execute_result"
    }
   ],
   "source": [
    "val int: Rand[Int] = _.nextInt"
   ]
  },
  {
   "cell_type": "code",
   "execution_count": 76,
   "metadata": {},
   "outputs": [
    {
     "data": {
      "text/plain": [
       "defined \u001b[32mfunction\u001b[39m \u001b[36munit\u001b[39m"
      ]
     },
     "execution_count": 76,
     "metadata": {},
     "output_type": "execute_result"
    }
   ],
   "source": [
    "def unit[A](a: A): Rand[A] = rng => (a, rng)"
   ]
  },
  {
   "cell_type": "code",
   "execution_count": 77,
   "metadata": {},
   "outputs": [
    {
     "data": {
      "text/plain": [
       "defined \u001b[32mfunction\u001b[39m \u001b[36mmap\u001b[39m"
      ]
     },
     "execution_count": 77,
     "metadata": {},
     "output_type": "execute_result"
    }
   ],
   "source": [
    "def map[A,B](s: Rand[A])(f: A => B): Rand[B] =\n",
    "  rng => {\n",
    "    val (a, rng2) = s(rng)\n",
    "    (f(a), rng2)\n",
    "  }"
   ]
  },
  {
   "cell_type": "markdown",
   "metadata": {},
   "source": [
    "**Problem**. `map` overwrites `map` previously defined for `List`:"
   ]
  },
  {
   "cell_type": "code",
   "execution_count": 77,
   "metadata": {},
   "outputs": [
    {
     "name": "stderr",
     "output_type": "stream",
     "text": [
      "cmd77.sc:1: too many arguments (found 2, expected 1) for method map: (s: ammonite.$sess.cmd76.wrapper.cmd73.Rand[A])(f: A => B): ammonite.$sess.cmd76.wrapper.cmd73.Rand[B]\n",
      "val res77 = map(List(1,2), _ + 1)\n",
      "                             ^Compilation Failed"
     ]
    },
    {
     "ename": "",
     "evalue": "",
     "output_type": "error",
     "traceback": [
      "Compilation Failed"
     ]
    }
   ],
   "source": [
    "map(List(1,2), _ + 1)"
   ]
  },
  {
   "cell_type": "markdown",
   "metadata": {},
   "source": [
    "## State"
   ]
  },
  {
   "cell_type": "code",
   "execution_count": 67,
   "metadata": {},
   "outputs": [
    {
     "data": {
      "text/plain": [
       "defined \u001b[32mtype\u001b[39m \u001b[36mState\u001b[39m"
      ]
     },
     "execution_count": 67,
     "metadata": {},
     "output_type": "execute_result"
    }
   ],
   "source": [
    "type State[S, +A] = S => (A,S)"
   ]
  },
  {
   "cell_type": "markdown",
   "metadata": {},
   "source": [
    "### Exercise 6.10"
   ]
  },
  {
   "cell_type": "code",
   "execution_count": 68,
   "metadata": {
    "scrolled": true
   },
   "outputs": [
    {
     "data": {
      "text/plain": [
       "defined \u001b[32mclass\u001b[39m \u001b[36mState\u001b[39m\n",
       "defined \u001b[32mobject\u001b[39m \u001b[36mState\u001b[39m"
      ]
     },
     "execution_count": 68,
     "metadata": {},
     "output_type": "execute_result"
    }
   ],
   "source": [
    "case class State[S,+A](run: S => (A,S)) {\n",
    "  def flatMap[B](f: A => State[S,B]): State[S,B] = State(s => {\n",
    "    val (a, s1) = run(s)\n",
    "    f(a).run(s1)\n",
    "  })\n",
    "  def map[B](f: A => B): State[S, B] = flatMap { a =>\n",
    "    State.unit(f(a))\n",
    "  }\n",
    "  def map2[B,C](state2: State[S,B])(f: (A,B) => C): State[S,C] =\n",
    "    flatMap { a =>\n",
    "      state2.map { f(a,_) }\n",
    "    }\n",
    "}\n",
    "\n",
    "object State {\n",
    "  def unit[S,A](a: A): State[S,A] = new State[S,A](s => (a,s))\n",
    "\n",
    "  def sequence[S,A](fs: List[State[S,A]]): State[S, List[A]] =\n",
    "    foldLeft(fs, unit[S,List[A]](Nil)) { (rl, ra) => ra.map2(rl) { Cons(_, _) } }\n",
    "\n",
    "  def get[S]: State[S,S] = State[S,S](s => (s,s))\n",
    "  def set[S](s: S): State[S,Unit] = State(_ => ((),s))\n",
    "\n",
    "  def modify[S](f: S => S): State[S,Unit] = for {\n",
    "    s <- get\n",
    "    _ <- set(f(s))\n",
    "  } yield ()\n",
    "}"
   ]
  },
  {
   "cell_type": "markdown",
   "metadata": {},
   "source": [
    "## Finite State Machine"
   ]
  },
  {
   "cell_type": "code",
   "execution_count": 69,
   "metadata": {},
   "outputs": [
    {
     "data": {
      "text/plain": [
       "defined \u001b[32mobject\u001b[39m \u001b[36mFSM\u001b[39m"
      ]
     },
     "execution_count": 69,
     "metadata": {},
     "output_type": "execute_result"
    }
   ],
   "source": [
    "object FSM {\n",
    "  sealed trait Input\n",
    "  case object Coin extends Input\n",
    "  case object Turn extends Input\n",
    "}"
   ]
  },
  {
   "cell_type": "code",
   "execution_count": 70,
   "metadata": {
    "scrolled": true
   },
   "outputs": [
    {
     "data": {
      "text/plain": [
       "defined \u001b[32mclass\u001b[39m \u001b[36mMachine\u001b[39m\n",
       "defined \u001b[32mfunction\u001b[39m \u001b[36msimulateMachine\u001b[39m"
      ]
     },
     "execution_count": 70,
     "metadata": {},
     "output_type": "execute_result"
    }
   ],
   "source": [
    "case class Machine(locked: Boolean, candies: Int, coins: Int)\n",
    "\n",
    "def simulateMachine(inputs: List[FSM.Input]): State[Machine, (Int, Int)] = {\n",
    "  def step(machine: Machine, input: FSM.Input) = (machine, input) match {\n",
    "    case (Machine(_, 0, _), _) => machine\n",
    "    case (Machine(true, _, _), FSM.Turn) => machine\n",
    "    case (Machine(false, _, _), FSM.Coin) => machine\n",
    "    case (Machine(true, _, coins), FSM.Coin) => machine.copy(locked = false, coins = coins+1)\n",
    "    case (Machine(false, candies, _), FSM.Turn) => machine.copy(locked = true, candies = candies-1)\n",
    "  }\n",
    "\n",
    "  State(machine => {\n",
    "    val m1 = foldLeft(inputs, machine)(step)\n",
    "    ((m1.coins, m1.candies), m1)\n",
    "  })\n",
    "}"
   ]
  }
 ],
 "metadata": {
  "kernelspec": {
   "display_name": "Scala 2.13",
   "language": "scala",
   "name": "scala213"
  },
  "language_info": {
   "codemirror_mode": "text/x-scala",
   "file_extension": ".sc",
   "mimetype": "text/x-scala",
   "name": "scala",
   "nbconvert_exporter": "script",
   "version": "2.13.3"
  }
 },
 "nbformat": 4,
 "nbformat_minor": 4
}
